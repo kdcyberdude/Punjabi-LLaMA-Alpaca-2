{
 "cells": [
  {
   "cell_type": "code",
   "execution_count": 4,
   "metadata": {},
   "outputs": [],
   "source": [
    "from datasets import load_dataset\n",
    "ds = load_dataset(\"uonlp/CulturaX\",\n",
    "                  \"pa\", split='train', cache_dir='../../../data/datasets/punjabi_ds', streaming=True)\n",
    "\n",
    "for batch in ds.iter(batch_size=800000):\n",
    "    with open('../../../data/datasets/punjabi_ds/punjabi_ds.txt', 'w') as f:\n",
    "        for ex in batch['text']:\n",
    "            f.write(ex + '\\n\\n')\n",
    "    break\n",
    "\n",
    "\n",
    "\n"
   ]
  },
  {
   "cell_type": "code",
   "execution_count": null,
   "metadata": {},
   "outputs": [],
   "source": []
  },
  {
   "cell_type": "code",
   "execution_count": null,
   "metadata": {},
   "outputs": [],
   "source": []
  }
 ],
 "metadata": {
  "kernelspec": {
   "display_name": "hf2",
   "language": "python",
   "name": "python3"
  },
  "language_info": {
   "codemirror_mode": {
    "name": "ipython",
    "version": 3
   },
   "file_extension": ".py",
   "mimetype": "text/x-python",
   "name": "python",
   "nbconvert_exporter": "python",
   "pygments_lexer": "ipython3",
   "version": "3.12.1"
  }
 },
 "nbformat": 4,
 "nbformat_minor": 2
}
